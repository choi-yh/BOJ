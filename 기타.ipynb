{
  "nbformat": 4,
  "nbformat_minor": 0,
  "metadata": {
    "colab": {
      "name": "기타.ipynb",
      "provenance": [],
      "collapsed_sections": [],
      "authorship_tag": "ABX9TyO1Un3M1BwBnikifDszVWLI",
      "include_colab_link": true
    },
    "kernelspec": {
      "name": "python3",
      "display_name": "Python 3"
    }
  },
  "cells": [
    {
      "cell_type": "markdown",
      "metadata": {
        "id": "view-in-github",
        "colab_type": "text"
      },
      "source": [
        "<a href=\"https://colab.research.google.com/github/choi-yh/BOJ/blob/master/%EA%B8%B0%ED%83%80.ipynb\" target=\"_parent\"><img src=\"https://colab.research.google.com/assets/colab-badge.svg\" alt=\"Open In Colab\"/></a>"
      ]
    },
    {
      "cell_type": "markdown",
      "metadata": {
        "id": "WDeoDa2meWa5",
        "colab_type": "text"
      },
      "source": [
        "2751, 11650, 11651, 10814, 10825, 10989, 11652, 11004, 10828, 9012, 10799, 10845, 10866, 10808, 10809, 10820, 2743, 11655, 10824, 11656, 1406, 1158, 1168, 10430, 2609, 1934, 1850, 9613, 11005, 2745, 1373, 1212, 2089, 11576, 1978, 1929, 6588, 11653, 10872, 1676, 2004"
      ]
    },
    {
      "cell_type": "markdown",
      "metadata": {
        "id": "u4U9b6gaGiv9",
        "colab_type": "text"
      },
      "source": [
        "## 정렬"
      ]
    },
    {
      "cell_type": "markdown",
      "metadata": {
        "id": "d6Kexti8YEYT",
        "colab_type": "text"
      },
      "source": [
        "### <font color = 'green'> 2751. 수 정렬하기 2 (09.06)\n",
        "https://www.acmicpc.net/problem/2751"
      ]
    },
    {
      "cell_type": "code",
      "metadata": {
        "id": "ljuA-RtMYF8A",
        "colab_type": "code",
        "colab": {}
      },
      "source": [
        "# 입력 받기\n",
        "n = int(input())\n",
        "array = []\n",
        "for _ in range(n):\n",
        "    array.append(int(input()))\n",
        "\n",
        "# 정렬 후 출력\n",
        "array.sort()\n",
        "for item in array:\n",
        "    print(item)"
      ],
      "execution_count": null,
      "outputs": []
    },
    {
      "cell_type": "code",
      "metadata": {
        "id": "LNw0AJpfYGDw",
        "colab_type": "code",
        "colab": {
          "base_uri": "https://localhost:8080/",
          "height": 35
        },
        "outputId": "23ae0b1a-5de3-4b25-e320-45f1d45358c7"
      },
      "source": [
        "array.sort()\n",
        "array"
      ],
      "execution_count": null,
      "outputs": [
        {
          "output_type": "execute_result",
          "data": {
            "text/plain": [
              "[1, 2, 3, 4, 5]"
            ]
          },
          "metadata": {
            "tags": []
          },
          "execution_count": 3
        }
      ]
    },
    {
      "cell_type": "markdown",
      "metadata": {
        "id": "SE0zEucpY9MO",
        "colab_type": "text"
      },
      "source": [
        "### <font color = 'green'> 11650. 좌표 정렬하기 (09.06)\n",
        "https://www.acmicpc.net/problem/11650"
      ]
    },
    {
      "cell_type": "code",
      "metadata": {
        "id": "F1Z-QxsHY9Qd",
        "colab_type": "code",
        "colab": {
          "base_uri": "https://localhost:8080/",
          "height": 125
        },
        "outputId": "d082f336-7ca6-4d46-d6dd-6e2c0ef561eb"
      },
      "source": [
        "# 입력 받기\n",
        "n = int(input())\n",
        "array = []\n",
        "for _ in range(n):\n",
        "    x, y = map(int, input().split())\n",
        "    array.append((x, y))\n",
        "\n",
        "# 정렬 후 출력\n",
        "array.sort()\n",
        "for item in array:\n",
        "    print(item[0], item[1])"
      ],
      "execution_count": null,
      "outputs": [
        {
          "output_type": "stream",
          "text": [
            "5\n",
            "3 4 \n",
            "1 1\n",
            "1 -1\n",
            "2 2\n",
            "3 3\n"
          ],
          "name": "stdout"
        }
      ]
    },
    {
      "cell_type": "markdown",
      "metadata": {
        "id": "A-58gZn8Y9X3",
        "colab_type": "text"
      },
      "source": [
        "### <font color = 'orange'> 11651. 좌표 정렬하기 2 (09.06)\n",
        "https://www.acmicpc.net/problem/11651"
      ]
    },
    {
      "cell_type": "code",
      "metadata": {
        "id": "rE7V9tvlY9eL",
        "colab_type": "code",
        "colab": {
          "base_uri": "https://localhost:8080/",
          "height": 215
        },
        "outputId": "484089cd-e64b-45fc-e76e-89367be49376"
      },
      "source": [
        "# 입력 받기\n",
        "n = int(input())\n",
        "array = []\n",
        "for _ in range(n):\n",
        "    x, y = map(int, input().split())\n",
        "    array.append([x, y])\n",
        "\n",
        "# 정렬 후 출력하기\n",
        "array.sort(key=lambda x: (x[1], x[0])) # y좌표가 같다면 x 좌표를 기준으로 정렬해야하므로 x축 기준도 설정한다.\n",
        "for item in array:\n",
        "    print(item[0], item[1])"
      ],
      "execution_count": null,
      "outputs": [
        {
          "output_type": "stream",
          "text": [
            "5\n",
            "0 4\n",
            "1 2\n",
            "1 -1\n",
            "2 2\n",
            "3 3\n",
            "1 -1\n",
            "1 2\n",
            "2 2\n",
            "3 3\n",
            "0 4\n"
          ],
          "name": "stdout"
        }
      ]
    },
    {
      "cell_type": "markdown",
      "metadata": {
        "id": "6oJT4CgDaG8Z",
        "colab_type": "text"
      },
      "source": [
        "### <font color = 'green'> 10814. 나이순 정렬 (09.06)\n",
        "https://www.acmicpc.net/problem/10814"
      ]
    },
    {
      "cell_type": "code",
      "metadata": {
        "id": "ql7pHbdGbyax",
        "colab_type": "code",
        "colab": {
          "base_uri": "https://localhost:8080/",
          "height": 143
        },
        "outputId": "0ae933c2-e5a3-4d6f-accb-ac37f847f910"
      },
      "source": [
        "# 입력 받기\n",
        "n = int(input())\n",
        "array = []\n",
        "for _ in range(n):\n",
        "    age, name = input().split()\n",
        "    array.append([int(age), name])\n",
        "\n",
        "# 정렬 후 출력하기\n",
        "array.sort(key=lambda x: x[0])\n",
        "for item in array:\n",
        "    print(item[0], item[1])"
      ],
      "execution_count": null,
      "outputs": [
        {
          "output_type": "stream",
          "text": [
            "3\n",
            "21 Junkyu\n",
            "21 Dohyun\n",
            "20 Sunyoung\n",
            "20 Sunyoung\n",
            "21 Junkyu\n",
            "21 Dohyun\n"
          ],
          "name": "stdout"
        }
      ]
    },
    {
      "cell_type": "markdown",
      "metadata": {
        "id": "DCAfnCJ-byd9",
        "colab_type": "text"
      },
      "source": [
        "### <font color = 'green'> 10825. 국영수 (09.07)\n",
        "https://www.acmicpc.net/problem/10825"
      ]
    },
    {
      "cell_type": "code",
      "metadata": {
        "id": "NPgOyIzjGTyu",
        "colab_type": "code",
        "colab": {
          "base_uri": "https://localhost:8080/",
          "height": 467
        },
        "outputId": "e6a1b9ab-4540-4172-f829-d99ccb758aaf"
      },
      "source": [
        "# 입력 받기\n",
        "n = int(input())\n",
        "data = []\n",
        "for _ in range(n):\n",
        "    name, korean, english, math = input().split()\n",
        "    data.append([name, int(korean), int(english), int(math)])\n",
        "\n",
        "# 1. 국어 내림차순\n",
        "# 2. 영어 오름차순\n",
        "# 3. 수학 내림차순\n",
        "# 4. 이름 오름차순\n",
        "data.sort(key=lambda x: (-x[1], x[2], -x[3], x[0])) # 내림차순 정렬시엔 -x[1]를 사용\n",
        "\n",
        "# 학생 이름 출력하기\n",
        "for item in data:\n",
        "    print(item[0])"
      ],
      "execution_count": 1,
      "outputs": [
        {
          "output_type": "stream",
          "text": [
            "12\n",
            "Junkyu 50 60 100\n",
            "Sangkeun 80 60 50\n",
            "Sunyoung 80 70 100\n",
            "Soong 50 60 90\n",
            "Haebin 50 60 100\n",
            "Kangsoo 60 80 100\n",
            "Donghyuk 80 60 100\n",
            "Sei 70 70 70\n",
            "Wonseob 70 70 90\n",
            "Sanghyun 70 70 80\n",
            "nsj 80 80 80\n",
            "Taewhan 50 60 90\n",
            "Donghyuk\n",
            "Sangkeun\n",
            "Sunyoung\n",
            "nsj\n",
            "Wonseob\n",
            "Sanghyun\n",
            "Sei\n",
            "Kangsoo\n",
            "Haebin\n",
            "Junkyu\n",
            "Soong\n",
            "Taewhan\n"
          ],
          "name": "stdout"
        }
      ]
    },
    {
      "cell_type": "markdown",
      "metadata": {
        "id": "u017qCZCGT2I",
        "colab_type": "text"
      },
      "source": [
        "### <font color = 'red'> 10989. 수 정렬하기 3 (09.07)\n",
        "https://www.acmicpc.net/problem/10989"
      ]
    },
    {
      "cell_type": "code",
      "metadata": {
        "id": "380g1IUOGT5O",
        "colab_type": "code",
        "colab": {
          "base_uri": "https://localhost:8080/",
          "height": 395
        },
        "outputId": "c1098c56-dc6d-482a-e42f-b6340d76f7dd"
      },
      "source": [
        "\"\"\"메모리 초과 (시간 제한: 3초, 메모리 제한: 8MB)\"\"\"\n",
        "\n",
        "# 입력 받기\n",
        "n = int(input())\n",
        "array = []\n",
        "\n",
        "for _ in range(n):\n",
        "    array.append(int(input()))\n",
        "array.sort()\n",
        "\n",
        "for item in array:\n",
        "    print(item)"
      ],
      "execution_count": 2,
      "outputs": [
        {
          "output_type": "stream",
          "text": [
            "10\n",
            "5\n",
            "2\n",
            "3\n",
            "1\n",
            "4\n",
            "2\n",
            "3\n",
            "5\n",
            "1\n",
            "7\n",
            "1\n",
            "1\n",
            "2\n",
            "2\n",
            "3\n",
            "3\n",
            "4\n",
            "5\n",
            "5\n",
            "7\n"
          ],
          "name": "stdout"
        }
      ]
    },
    {
      "cell_type": "code",
      "metadata": {
        "id": "pMTyawxGJRFY",
        "colab_type": "code",
        "colab": {
          "base_uri": "https://localhost:8080/",
          "height": 35
        },
        "outputId": "a04419b0-c4bf-4b9c-d7b6-cdf9daf45b0f"
      },
      "source": [
        "\"\"\"\n",
        "sys.stdin.readline으로 입력 받고\n",
        "array에 개수를 저장해서 출력한다.\n",
        "Python 3로는 통과, PyPy3로는 메모리 초과 발생\n",
        "\"\"\"\n",
        "\n",
        "import sys\n",
        "n = int(input())\n",
        "array = [0 for _ in range(10001)]\n",
        "\n",
        "for _ in range(n):\n",
        "    array[int(sys.stdin.readline())] += 1\n",
        "\n",
        "for i in range(10001):\n",
        "    if array[i] != 0:\n",
        "        for _ in range(array[i]):\n",
        "            print(i)"
      ],
      "execution_count": 3,
      "outputs": [
        {
          "output_type": "execute_result",
          "data": {
            "text/plain": [
              "20000.0"
            ]
          },
          "metadata": {
            "tags": []
          },
          "execution_count": 3
        }
      ]
    },
    {
      "cell_type": "markdown",
      "metadata": {
        "id": "-03F1Cy9JRIZ",
        "colab_type": "text"
      },
      "source": [
        "### <font color = 'orange'> 11652. 카드 (09.07)\n",
        "https://www.acmicpc.net/problem/11652"
      ]
    },
    {
      "cell_type": "code",
      "metadata": {
        "id": "2xQleZhIbygl",
        "colab_type": "code",
        "colab": {
          "base_uri": "https://localhost:8080/",
          "height": 161
        },
        "outputId": "59ba5815-ce69-47a5-f81e-6a4d009c703a"
      },
      "source": [
        "\"\"\"\n",
        "아이디어는 맞았지만 코딩 과정에서 오류가 몇번 있었다.\n",
        "그리고 코드도 깔끔하지 않다고 느껴진다.\n",
        "\n",
        "1. from collections import Counter - 캐글하면서 몇번 봤던 라이브러린데 간단하다.\n",
        "2. 딕셔너리로 저장을 하고 정렬을 item 기준으로 한다 (key=lambda x: (-x[1], x[0])) - 가장 적합한 풀이 같다.\n",
        "\"\"\"\n",
        "\n",
        "# 입력 받기\n",
        "import sys\n",
        "n = int(input())\n",
        "dic = {}\n",
        "\n",
        "# 입력 받으면서 딕셔너리의 key에 저장하고 value에는 중복된 횟수를 저장한다.\n",
        "for _ in range(n):\n",
        "    num = int(input())\n",
        "    if num in dic.keys():\n",
        "        dic[num] += 1\n",
        "    else:\n",
        "        dic[num] = 1\n",
        "\n",
        "count = 0\n",
        "result = 2**62+1\n",
        "for item in dic.items():\n",
        "    if item[1] > count: # 카드 장수가 더 클 경우\n",
        "        count = item[1]\n",
        "        result = item[0]\n",
        "    elif item[1] == count and result > item[0]:\n",
        "        result = item[0]\n",
        "\n",
        "print(result)"
      ],
      "execution_count": 27,
      "outputs": [
        {
          "output_type": "stream",
          "text": [
            "6\n",
            "2\n",
            "1\n",
            "2\n",
            "1\n",
            "2\n",
            "1\n",
            "1\n"
          ],
          "name": "stdout"
        }
      ]
    },
    {
      "cell_type": "code",
      "metadata": {
        "id": "igrYdi_EPY_v",
        "colab_type": "code",
        "colab": {}
      },
      "source": [
        ""
      ],
      "execution_count": null,
      "outputs": []
    },
    {
      "cell_type": "code",
      "metadata": {
        "id": "Zj8RNLG3aG_6",
        "colab_type": "code",
        "colab": {}
      },
      "source": [
        ""
      ],
      "execution_count": null,
      "outputs": []
    },
    {
      "cell_type": "code",
      "metadata": {
        "id": "x9NvrQT1YGFz",
        "colab_type": "code",
        "colab": {}
      },
      "source": [
        ""
      ],
      "execution_count": null,
      "outputs": []
    }
  ]
}