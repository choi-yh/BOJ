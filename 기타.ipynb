{
  "nbformat": 4,
  "nbformat_minor": 0,
  "metadata": {
    "colab": {
      "name": "기타.ipynb",
      "provenance": [],
      "collapsed_sections": [],
      "authorship_tag": "ABX9TyMemTJtF3PUsUkaJr4Dm1cJ",
      "include_colab_link": true
    },
    "kernelspec": {
      "name": "python3",
      "display_name": "Python 3"
    }
  },
  "cells": [
    {
      "cell_type": "markdown",
      "metadata": {
        "id": "view-in-github",
        "colab_type": "text"
      },
      "source": [
        "<a href=\"https://colab.research.google.com/github/choi-yh/BOJ/blob/master/%EA%B8%B0%ED%83%80.ipynb\" target=\"_parent\"><img src=\"https://colab.research.google.com/assets/colab-badge.svg\" alt=\"Open In Colab\"/></a>"
      ]
    },
    {
      "cell_type": "markdown",
      "metadata": {
        "id": "WDeoDa2meWa5",
        "colab_type": "text"
      },
      "source": [
        "2751, 11650, 11651, 10814, 10825, 10989, 11652, 11004, 10828, 9012, 10799, 10845, 10866, 10808, 10809, 10820, 2743, 11655, 10824, 11656, 1406, 1158, 1168, 10430, 2609, 1934, 1850, 9613, 11005, 2745, 1373, 1212, 2089, 11576, 1978, 1929, 6588, 11653, 10872, 1676, 2004"
      ]
    },
    {
      "cell_type": "markdown",
      "metadata": {
        "id": "d6Kexti8YEYT",
        "colab_type": "text"
      },
      "source": [
        "### <font color = 'green'> 2751. 수 정렬하기 2 (09.06)\n",
        "https://www.acmicpc.net/problem/2751"
      ]
    },
    {
      "cell_type": "code",
      "metadata": {
        "id": "ljuA-RtMYF8A",
        "colab_type": "code",
        "colab": {}
      },
      "source": [
        "# 입력 받기\n",
        "n = int(input())\n",
        "array = []\n",
        "for _ in range(n):\n",
        "    array.append(int(input()))\n",
        "\n",
        "# 정렬 후 출력\n",
        "array.sort()\n",
        "for item in array:\n",
        "    print(item)"
      ],
      "execution_count": null,
      "outputs": []
    },
    {
      "cell_type": "code",
      "metadata": {
        "id": "LNw0AJpfYGDw",
        "colab_type": "code",
        "colab": {
          "base_uri": "https://localhost:8080/",
          "height": 35
        },
        "outputId": "23ae0b1a-5de3-4b25-e320-45f1d45358c7"
      },
      "source": [
        "array.sort()\n",
        "array"
      ],
      "execution_count": 3,
      "outputs": [
        {
          "output_type": "execute_result",
          "data": {
            "text/plain": [
              "[1, 2, 3, 4, 5]"
            ]
          },
          "metadata": {
            "tags": []
          },
          "execution_count": 3
        }
      ]
    },
    {
      "cell_type": "markdown",
      "metadata": {
        "id": "SE0zEucpY9MO",
        "colab_type": "text"
      },
      "source": [
        "### <font color = 'green'> 11650. 좌표 정렬하기\n",
        "https://www.acmicpc.net/problem/11650"
      ]
    },
    {
      "cell_type": "code",
      "metadata": {
        "id": "F1Z-QxsHY9Qd",
        "colab_type": "code",
        "colab": {
          "base_uri": "https://localhost:8080/",
          "height": 125
        },
        "outputId": "d082f336-7ca6-4d46-d6dd-6e2c0ef561eb"
      },
      "source": [
        "# 입력 받기\n",
        "n = int(input())\n",
        "array = []\n",
        "for _ in range(n):\n",
        "    x, y = map(int, input().split())\n",
        "    array.append((x, y))\n",
        "\n",
        "# 정렬 후 출력\n",
        "array.sort()\n",
        "for item in array:\n",
        "    print(item[0], item[1])"
      ],
      "execution_count": 4,
      "outputs": [
        {
          "output_type": "stream",
          "text": [
            "5\n",
            "3 4 \n",
            "1 1\n",
            "1 -1\n",
            "2 2\n",
            "3 3\n"
          ],
          "name": "stdout"
        }
      ]
    },
    {
      "cell_type": "markdown",
      "metadata": {
        "id": "A-58gZn8Y9X3",
        "colab_type": "text"
      },
      "source": [
        "### <font color = 'orange'> 11651. 좌표 정렬하기 2\n",
        "https://www.acmicpc.net/problem/11651"
      ]
    },
    {
      "cell_type": "code",
      "metadata": {
        "id": "rE7V9tvlY9eL",
        "colab_type": "code",
        "colab": {
          "base_uri": "https://localhost:8080/",
          "height": 215
        },
        "outputId": "484089cd-e64b-45fc-e76e-89367be49376"
      },
      "source": [
        "# 입력 받기\n",
        "n = int(input())\n",
        "array = []\n",
        "for _ in range(n):\n",
        "    x, y = map(int, input().split())\n",
        "    array.append([x, y])\n",
        "\n",
        "# 정렬 후 출력하기\n",
        "array.sort(key=lambda x: (x[1], x[0])) # y좌표가 같다면 x 좌표를 기준으로 정렬해야하므로 x축 기준도 설정한다.\n",
        "for item in array:\n",
        "    print(item[0], item[1])"
      ],
      "execution_count": 14,
      "outputs": [
        {
          "output_type": "stream",
          "text": [
            "5\n",
            "0 4\n",
            "1 2\n",
            "1 -1\n",
            "2 2\n",
            "3 3\n",
            "1 -1\n",
            "1 2\n",
            "2 2\n",
            "3 3\n",
            "0 4\n"
          ],
          "name": "stdout"
        }
      ]
    },
    {
      "cell_type": "markdown",
      "metadata": {
        "id": "6oJT4CgDaG8Z",
        "colab_type": "text"
      },
      "source": [
        "### <font color = 'green'> 10814. 나이순 정렬\n",
        "https://www.acmicpc.net/problem/10814"
      ]
    },
    {
      "cell_type": "code",
      "metadata": {
        "id": "ql7pHbdGbyax",
        "colab_type": "code",
        "colab": {
          "base_uri": "https://localhost:8080/",
          "height": 143
        },
        "outputId": "0ae933c2-e5a3-4d6f-accb-ac37f847f910"
      },
      "source": [
        "# 입력 받기\n",
        "n = int(input())\n",
        "array = []\n",
        "for _ in range(n):\n",
        "    age, name = input().split()\n",
        "    array.append([int(age), name])\n",
        "\n",
        "# 정렬 후 출력하기\n",
        "array.sort(key=lambda x: x[0])\n",
        "for item in array:\n",
        "    print(item[0], item[1])"
      ],
      "execution_count": 15,
      "outputs": [
        {
          "output_type": "stream",
          "text": [
            "3\n",
            "21 Junkyu\n",
            "21 Dohyun\n",
            "20 Sunyoung\n",
            "20 Sunyoung\n",
            "21 Junkyu\n",
            "21 Dohyun\n"
          ],
          "name": "stdout"
        }
      ]
    },
    {
      "cell_type": "code",
      "metadata": {
        "id": "DCAfnCJ-byd9",
        "colab_type": "code",
        "colab": {}
      },
      "source": [
        ""
      ],
      "execution_count": null,
      "outputs": []
    },
    {
      "cell_type": "code",
      "metadata": {
        "id": "2xQleZhIbygl",
        "colab_type": "code",
        "colab": {}
      },
      "source": [
        ""
      ],
      "execution_count": null,
      "outputs": []
    },
    {
      "cell_type": "code",
      "metadata": {
        "id": "Zj8RNLG3aG_6",
        "colab_type": "code",
        "colab": {}
      },
      "source": [
        ""
      ],
      "execution_count": null,
      "outputs": []
    },
    {
      "cell_type": "code",
      "metadata": {
        "id": "x9NvrQT1YGFz",
        "colab_type": "code",
        "colab": {}
      },
      "source": [
        ""
      ],
      "execution_count": null,
      "outputs": []
    }
  ]
}