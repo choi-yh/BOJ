{
  "nbformat": 4,
  "nbformat_minor": 0,
  "metadata": {
    "colab": {
      "name": "DP.ipynb",
      "provenance": [],
      "collapsed_sections": [],
      "authorship_tag": "ABX9TyMLnieMVtkjR2wvlWhdtNtW",
      "include_colab_link": true
    },
    "kernelspec": {
      "name": "python3",
      "display_name": "Python 3"
    }
  },
  "cells": [
    {
      "cell_type": "markdown",
      "metadata": {
        "id": "view-in-github",
        "colab_type": "text"
      },
      "source": [
        "<a href=\"https://colab.research.google.com/github/choi-yh/BOJ/blob/master/DP.ipynb\" target=\"_parent\"><img src=\"https://colab.research.google.com/assets/colab-badge.svg\" alt=\"Open In Colab\"/></a>"
      ]
    },
    {
      "cell_type": "markdown",
      "metadata": {
        "id": "lY2fLLcndmRy",
        "colab_type": "text"
      },
      "source": [
        "### <font color = 'red'> 2156. 포도주 시식"
      ]
    },
    {
      "cell_type": "code",
      "metadata": {
        "id": "3ggERxsddtry",
        "colab_type": "code",
        "colab": {
          "base_uri": "https://localhost:8080/",
          "height": 161
        },
        "outputId": "392fdc1b-66f5-4e4d-e09a-61ee80bac150"
      },
      "source": [
        "# 입력받기\n",
        "n = int(input())\n",
        "wines = [int(input()) for _ in range(n)]\n",
        "\n",
        "# i번째를 기준으로 앞의 세개 중에서 큰 값을 골라서 더하면 된다.\n",
        "d = [0] * n\n",
        "\n",
        "for i in range(3, n):\n",
        "    d[i] = max(d[i-2] + wines[i], d[i-3] + wines[i-1] + wines[i])\n",
        "    d[i] = max(d[i], d[i-1])\n",
        "\n",
        "print(d[n-1])"
      ],
      "execution_count": null,
      "outputs": [
        {
          "output_type": "stream",
          "text": [
            "6\n",
            "6\n",
            "10\n",
            "13\n",
            "9\n",
            "8\n",
            "1\n",
            "29\n"
          ],
          "name": "stdout"
        }
      ]
    },
    {
      "cell_type": "markdown",
      "metadata": {
        "id": "MVetDRKSdtu9",
        "colab_type": "text"
      },
      "source": [
        "### <font color = 'red'> 11053. 가장 긴 증가하는 부분 수열 (09.01)\n",
        "https://www.acmicpc.net/problem/11053\n",
        "\n",
        "* LIS (Longest Increasing Subsequence) 문제"
      ]
    },
    {
      "cell_type": "code",
      "metadata": {
        "id": "T1zNzNIrdtxy",
        "colab_type": "code",
        "colab": {
          "base_uri": "https://localhost:8080/",
          "height": 71
        },
        "outputId": "f68b09e1-f907-426f-e0e2-9635c07a0c05"
      },
      "source": [
        "# 입력 받기\n",
        "n = int(input())\n",
        "seq = list(map(int, input().split()))\n",
        "\n",
        "dp = [1] * n # 부분 수열에 들어가지 못하는 원소는 0으로 바꿔준다.\n",
        "for i in range(1, n):\n",
        "    # 해당 값을 기준으로 이전 값보다 크면 부분 수열에 추가 (시작이 될 수도 있다.)\n",
        "    # 해당 값을 기준으로 이전 값보다 작으면 부분 수열 만드는 것을 멈춘다.\n",
        "    if seq[i] < seq[i-1] and dp[i-1] == 1: # 이전 값보다 작고 이전 값이 부분 수열에 들어가있다면\n",
        "        dp[i] = 0 # 부분 수열 위치 초기화\n",
        "    \n",
        "\n",
        "print(sum(dp))"
      ],
      "execution_count": null,
      "outputs": [
        {
          "output_type": "stream",
          "text": [
            "7\n",
            "3 5 7 2 3 4 6\n",
            "6\n"
          ],
          "name": "stdout"
        }
      ]
    },
    {
      "cell_type": "code",
      "metadata": {
        "id": "2dLP7rEh4K-1",
        "colab_type": "code",
        "colab": {
          "base_uri": "https://localhost:8080/",
          "height": 71
        },
        "outputId": "fa5cf9a0-63b6-4647-d258-ad3e67f286e1"
      },
      "source": [
        "# 입력 받기\n",
        "n = int(input())\n",
        "seq = list(map(int, input().split()))\n",
        "\n",
        "dp = [1] * n\n",
        "for i in range(1, n):\n",
        "    for j in range(0, i):\n",
        "        if seq[i] > seq[j] and dp[i] <= dp[j]:\n",
        "            dp[i] = dp[j] + 1\n",
        "\n",
        "print(max(dp))"
      ],
      "execution_count": null,
      "outputs": [
        {
          "output_type": "stream",
          "text": [
            "6\n",
            "10 20 10 30 20 50\n",
            "4\n"
          ],
          "name": "stdout"
        }
      ]
    },
    {
      "cell_type": "code",
      "metadata": {
        "id": "MNyA3k2KcKoc",
        "colab_type": "code",
        "colab": {
          "base_uri": "https://localhost:8080/",
          "height": 71
        },
        "outputId": "a2527e0b-6671-4fb0-e7a4-8ba80dfdd835"
      },
      "source": [
        "# 09.02 LIS 개념 보면서 다시 풀어보기\n",
        "# 입력 받기\n",
        "n = int(input())\n",
        "data = list(map(int, input().split()))\n",
        "\n",
        "dp = [1] * n\n",
        "for i in range(1, n):\n",
        "    for j in range(0, i):\n",
        "        if data[i] > data[j]:\n",
        "            dp[i] = max(dp[i], dp[j] + 1)\n",
        "\n",
        "print(max(dp))"
      ],
      "execution_count": 1,
      "outputs": [
        {
          "output_type": "stream",
          "text": [
            "6\n",
            "10 20 10 30 20 50\n",
            "4\n"
          ],
          "name": "stdout"
        }
      ]
    },
    {
      "cell_type": "markdown",
      "metadata": {
        "id": "wN3zCDNIdt34",
        "colab_type": "text"
      },
      "source": [
        "### <font color = 'red'> 11055. 가장 큰 증가 부분 수열 (09.01)\n",
        "https://www.acmicpc.net/problem/11055"
      ]
    },
    {
      "cell_type": "code",
      "metadata": {
        "id": "fkxYKTjeRek2",
        "colab_type": "code",
        "colab": {
          "base_uri": "https://localhost:8080/",
          "height": 71
        },
        "outputId": "baf659f6-3cce-40ef-bfa9-184906ab0a11"
      },
      "source": [
        "# 입력 받기\n",
        "n = int(input())\n",
        "seq = list(map(int, input().split()))\n",
        "\n",
        "dp = [0] * n\n",
        "\n",
        "# dp에 이전까지의 값의 합을 저장한다.\n",
        "# 전체적으로 확인하면서 수열에서 작은 값의 인덱스의 dp값과 내 dp값을 비교해서 저장한다.\n",
        "for i in range(1, n):\n",
        "    for j in range(i, -1, -1): # 해당 인덱스에서 거꾸로 가면서 가장 가까운 값의 dp를 갱신해주는 것이 좋을 것 같다.\n",
        "        if seq[i] > seq[j]: # 가장 가까운 값 중에서 작은 값의 dp를 계산하고\n",
        "            dp[i] = dp[j] + seq[i]\n",
        "            break # for문을 멈춰준다\n",
        "\n",
        "print(max(dp))"
      ],
      "execution_count": null,
      "outputs": [
        {
          "output_type": "stream",
          "text": [
            "10\n",
            "1 100 2 50 60 3 5 6 7 8\n",
            "113\n"
          ],
          "name": "stdout"
        }
      ]
    },
    {
      "cell_type": "code",
      "metadata": {
        "id": "E1_G3AszXv3B",
        "colab_type": "code",
        "colab": {
          "base_uri": "https://localhost:8080/",
          "height": 71
        },
        "outputId": "e8ce1e68-6be7-4dd3-892c-7e4816d86254"
      },
      "source": [
        "# 입력 받기\n",
        "n = int(input())\n",
        "seq = list(map(int, input().split()))\n",
        "\n",
        "dp = seq[:]\n",
        "\n",
        "# dp에 이전까지의 값의 합을 저장한다.\n",
        "# 전체적으로 확인하면서 수열에서 작은 값의 인덱스의 dp값과 내 dp값을 비교해서 저장한다.\n",
        "for i in range(1, n):\n",
        "    for j in range(0, i): # 이전 인덱스 값들을 확인한다\n",
        "        if (seq[i] > seq[j]) and (dp[i] < dp[j] + seq[i]): # 내 인덱스 값이 더 크고 갱신된 dp값이 최대값이 아닐때\n",
        "            dp[i] = dp[j] + seq[i] # dp 값을 갱신한다.\n",
        "\n",
        "print(max(dp))"
      ],
      "execution_count": null,
      "outputs": [
        {
          "output_type": "stream",
          "text": [
            "10\n",
            "1 100 2 50 60 3 5 6 7 8\n",
            "113\n"
          ],
          "name": "stdout"
        }
      ]
    },
    {
      "cell_type": "markdown",
      "metadata": {
        "id": "6zAYybDIRen8",
        "colab_type": "text"
      },
      "source": [
        "### <font color = 'green'> 11722. 가장 긴 감소하는 부분 수열 (09.01)\n",
        "https://www.acmicpc.net/problem/11722"
      ]
    },
    {
      "cell_type": "code",
      "metadata": {
        "id": "CfvDPOdzdQ3c",
        "colab_type": "code",
        "colab": {
          "base_uri": "https://localhost:8080/",
          "height": 71
        },
        "outputId": "bb1bebfc-a615-4e43-a0d6-1e877f6fcf00"
      },
      "source": [
        "# 입력 받기\n",
        "n = int(input())\n",
        "seq = list(map(int, input().split()))\n",
        "\n",
        "dp = [1] * n\n",
        "\n",
        "# 수열 맨 뒤에서 앞으로 오면서 뒤에 작은 값 중 가장 가까운 값의 dp를 업데이트\n",
        "for i in range(n, -1, -1):\n",
        "    for j in range(i, n): # 해당 인덱스부터 뒤로 가면서 작은 값이 있는지 확인\n",
        "        if (seq[i] > seq[j]) and (dp[i] <= dp[j]):\n",
        "            dp[i] = dp[j] + 1\n",
        "\n",
        "print(max(dp))"
      ],
      "execution_count": null,
      "outputs": [
        {
          "output_type": "stream",
          "text": [
            "6\n",
            "10 30 4 2 5 20\n",
            "3\n"
          ],
          "name": "stdout"
        }
      ]
    },
    {
      "cell_type": "code",
      "metadata": {
        "id": "C_liyGAVdQ64",
        "colab_type": "code",
        "colab": {
          "base_uri": "https://localhost:8080/",
          "height": 35
        },
        "outputId": "f15e81b5-0976-446a-bc8c-2556d2c7039e"
      },
      "source": [
        "dp"
      ],
      "execution_count": null,
      "outputs": [
        {
          "output_type": "execute_result",
          "data": {
            "text/plain": [
              "[1, 3, 2, 1, 1, 1]"
            ]
          },
          "metadata": {
            "tags": []
          },
          "execution_count": 59
        }
      ]
    },
    {
      "cell_type": "markdown",
      "metadata": {
        "id": "gfyrcVzKdQ9w",
        "colab_type": "text"
      },
      "source": [
        "### <font color = 'red'> 11054. 가장 긴 바이토닉 부분 수열 (09.02)\n",
        "https://www.acmicpc.net/problem/11054"
      ]
    },
    {
      "cell_type": "code",
      "metadata": {
        "id": "DH0PypLFNT4v",
        "colab_type": "code",
        "colab": {
          "base_uri": "https://localhost:8080/",
          "height": 71
        },
        "outputId": "667debd1-bf26-41f9-90de-3630ad8e883a"
      },
      "source": [
        "# 입력 받기\n",
        "n = int(input())\n",
        "array = list(map(int, input().split()))\n",
        "\n",
        "dp1 = [1] * n # 앞에서 뒤로\n",
        "dp2 = [1] * n # 뒤에서 앞으로\n",
        "\n",
        "# 앞에서 뒤로\n",
        "for i in range(1, n):\n",
        "    for j in range(i):\n",
        "        if array[i] > array[j]:\n",
        "            dp1[i] = max(dp1[i], dp1[j]+1)\n",
        "\n",
        "# 뒤에서 앞으로\n",
        "for i in range(n-2, -1, -1):\n",
        "    for j in range(n-1, i, -1):\n",
        "        if array[i] > array[j]:\n",
        "            dp2[i] = max(dp2[i], dp2[j]+1)\n",
        "\n",
        "# 두 lis값을 더해서 큰 값을 출력 (자기 자신은 두번 들어가니 -1)\n",
        "maxx = 0\n",
        "for i in range(n):\n",
        "    if dp1[i] + dp2[i] - 1 > maxx:\n",
        "        maxx = dp1[i] + dp2[i] - 1\n",
        "\n",
        "print(maxx)"
      ],
      "execution_count": 7,
      "outputs": [
        {
          "output_type": "stream",
          "text": [
            "10\n",
            "1 5 2 1 4 3 4 5 2 1\n",
            "7\n"
          ],
          "name": "stdout"
        }
      ]
    },
    {
      "cell_type": "markdown",
      "metadata": {
        "id": "wX4BS-kSe0kk",
        "colab_type": "text"
      },
      "source": [
        "### <font color = 'red'> 1912. 연속합 (09.02)"
      ]
    },
    {
      "cell_type": "code",
      "metadata": {
        "id": "INLIWaGCN1s3",
        "colab_type": "code",
        "colab": {
          "base_uri": "https://localhost:8080/",
          "height": 71
        },
        "outputId": "556f8724-e5fb-4886-ed10-4da1f9c037d5"
      },
      "source": [
        "### 완전 탐색 방식인데 시간 초과가 나온다\n",
        "\n",
        "# 입력 받기\n",
        "n = int(input())\n",
        "array = list(map(int, input().split()))\n",
        "\n",
        "# 순차적으로 이동하면서\n",
        "# 해당 인덱스를 시작점으로 잡았을 때 최댓값을 저장\n",
        "result = []\n",
        "for i in range(n):\n",
        "    sum = array[i]\n",
        "    maxx = array[i] # 최댓값 저장\n",
        "    for j in range(i+1, n):\n",
        "        sum += array[j]\n",
        "        if sum > maxx:\n",
        "            maxx = sum\n",
        "    result.append(maxx)\n",
        "\n",
        "print(max(result))"
      ],
      "execution_count": 25,
      "outputs": [
        {
          "output_type": "stream",
          "text": [
            "5\n",
            "-1 -2 -3 -4 -5\n",
            "-1\n"
          ],
          "name": "stdout"
        }
      ]
    },
    {
      "cell_type": "code",
      "metadata": {
        "id": "yMjwVXP1iQjU",
        "colab_type": "code",
        "colab": {
          "base_uri": "https://localhost:8080/",
          "height": 71
        },
        "outputId": "19fb43d5-ffeb-4dd5-bf56-ff18ce7ab09a"
      },
      "source": [
        "# 입력 받기\n",
        "n = int(input())\n",
        "array = list(map(int, input().split()))\n",
        "\n",
        "dp = array.copy()\n",
        "for i in range(1, n):\n",
        "    dp[i] = max(dp[i-1] + dp[i], dp[i])\n",
        "\n",
        "print(max(dp))"
      ],
      "execution_count": 52,
      "outputs": [
        {
          "output_type": "stream",
          "text": [
            "10\n",
            "2 1 -4 3 4 -4 6 5 -5 1\n",
            "14\n"
          ],
          "name": "stdout"
        }
      ]
    },
    {
      "cell_type": "code",
      "metadata": {
        "id": "UbEwXXr1lUV9",
        "colab_type": "code",
        "colab": {}
      },
      "source": [
        ""
      ],
      "execution_count": null,
      "outputs": []
    },
    {
      "cell_type": "code",
      "metadata": {
        "id": "M_S9eg0xwXA9",
        "colab_type": "code",
        "colab": {}
      },
      "source": [
        ""
      ],
      "execution_count": null,
      "outputs": []
    },
    {
      "cell_type": "code",
      "metadata": {
        "id": "-j8QPf3VwXEc",
        "colab_type": "code",
        "colab": {}
      },
      "source": [
        ""
      ],
      "execution_count": null,
      "outputs": []
    },
    {
      "cell_type": "code",
      "metadata": {
        "id": "zuV5MABClUab",
        "colab_type": "code",
        "colab": {}
      },
      "source": [
        ""
      ],
      "execution_count": null,
      "outputs": []
    },
    {
      "cell_type": "code",
      "metadata": {
        "id": "YvfcqxrzlUdK",
        "colab_type": "code",
        "colab": {}
      },
      "source": [
        ""
      ],
      "execution_count": null,
      "outputs": []
    }
  ]
}